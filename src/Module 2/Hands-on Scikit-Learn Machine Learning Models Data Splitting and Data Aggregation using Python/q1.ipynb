{
 "cells": [
  {
   "cell_type": "code",
   "execution_count": 1,
   "metadata": {},
   "outputs": [],
   "source": [
    "# Question 1: Load & Explore the Credit Card Fraud Detection Dataset\n",
    "\n",
    "# Step 1: Load the dataset from a CSV (Assume you have a file named creditcard.csv ).\n",
    "# Step 2: Split the data.\n",
    "# Step 3: Train a Logistic Regression model.\n",
    "# Step 4: Evaluate using ROC AUC score.\n"
   ]
  },
  {
   "cell_type": "code",
   "execution_count": 3,
   "metadata": {},
   "outputs": [
    {
     "name": "stdout",
     "output_type": "stream",
     "text": [
      "✅ Synthetic dataset created:\n",
      "Class\n",
      "0    9900\n",
      "1     100\n",
      "Name: count, dtype: int64\n",
      "       Time        V1        V2        V3        V4        V5        V6  \\\n",
      "0  2.200894 -0.011383  2.642692  4.792710 -0.398958 -0.849918 -0.344935   \n",
      "1  1.175031  1.139599 -0.129027 -2.324081 -1.086215 -0.220720  0.272890   \n",
      "2  1.287240  0.081522  3.074523  2.267023 -0.091004 -0.509467 -0.297756   \n",
      "3 -0.969638  1.738438  4.968723  5.667066 -0.637043 -1.986710  0.987154   \n",
      "4  0.413468  0.242332  4.325274  7.648337  0.335792 -2.644580  2.507860   \n",
      "\n",
      "         V7        V8        V9  ...       V21       V22       V23       V24  \\\n",
      "0  0.145185 -0.819506  2.393682  ...  2.415158  0.983948  8.002133  2.721928   \n",
      "1  1.393926  0.512857  3.440417  ...  0.713340  0.323408  3.250362 -1.952514   \n",
      "2  0.707766  2.836111  4.098937  ...  3.881381  0.210610  8.842068 -0.573507   \n",
      "3 -0.061643 -0.064501  0.178977  ...  1.255979  1.544178  3.618806  2.319650   \n",
      "4 -0.990021 -0.369042 -2.515250  ... -3.500755  2.266177 -1.310692  4.776270   \n",
      "\n",
      "        V25       V26       V27       V28    Amount  Class  \n",
      "0 -3.272909 -0.641811 -0.630639 -0.101159 -1.985932      0  \n",
      "1 -0.222169 -0.921379  0.755461  6.196257 -2.702840      0  \n",
      "2 -2.469225  0.234541 -0.353444  3.930028  0.209036      0  \n",
      "3 -0.973756 -2.213026 -0.502138  2.662480  2.121831      0  \n",
      "4  1.293264 -4.832528  0.319385  4.810915  1.087682      0  \n",
      "\n",
      "[5 rows x 31 columns]\n"
     ]
    }
   ],
   "source": [
    "import pandas as pd\n",
    "import numpy as np\n",
    "from sklearn.datasets import make_classification\n",
    "\n",
    "# Create a synthetic imbalanced dataset (1% fraud cases)\n",
    "X, y = make_classification(\n",
    "    n_samples=10000,        # total samples\n",
    "    n_features=30,          # number of features (similar to real dataset)\n",
    "    n_informative=10,       # number of informative features\n",
    "    n_redundant=10,         # redundant features\n",
    "    n_clusters_per_class=1, \n",
    "    weights=[0.99],         # 99% normal, 1% fraud\n",
    "    flip_y=0,\n",
    "    random_state=42\n",
    ")\n",
    "\n",
    "# Convert to DataFrame\n",
    "columns = [f'V{i}' for i in range(1, 29)]\n",
    "df = pd.DataFrame(X, columns=['Time'] + columns + ['Amount'])\n",
    "df['Class'] = y\n",
    "\n",
    "# Save to CSV (optional)\n",
    "df.to_csv('synthetic_creditcard.csv', index=False)\n",
    "\n",
    "# Display dataset info\n",
    "print(\"✅ Synthetic dataset created:\")\n",
    "print(df['Class'].value_counts())\n",
    "print(df.head())\n"
   ]
  }
 ],
 "metadata": {
  "kernelspec": {
   "display_name": "Python 3",
   "language": "python",
   "name": "python3"
  },
  "language_info": {
   "codemirror_mode": {
    "name": "ipython",
    "version": 3
   },
   "file_extension": ".py",
   "mimetype": "text/x-python",
   "name": "python",
   "nbconvert_exporter": "python",
   "pygments_lexer": "ipython3",
   "version": "3.10.12"
  }
 },
 "nbformat": 4,
 "nbformat_minor": 2
}
